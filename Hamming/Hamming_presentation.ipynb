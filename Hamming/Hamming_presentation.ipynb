{
 "cells": [
  {
   "cell_type": "code",
   "execution_count": 9,
   "metadata": {},
   "outputs": [],
   "source": [
    "import numpy as np\n",
    "import math\n",
    "import matplotlib.pyplot as plt"
   ]
  },
  {
   "cell_type": "code",
   "execution_count": 10,
   "metadata": {},
   "outputs": [
    {
     "name": "stdout",
     "output_type": "stream",
     "text": [
      "Number of characters before ':' is 16.\n",
      "The dimension of the permutation matrix is :  4.0  x  4.0\n",
      "Permutation matrix is :\n",
      "[[0 1 0 0]\n",
      " [0 0 0 1]\n",
      " [0 0 1 0]\n",
      " [1 0 0 0]]\n",
      "Inverse of the transpostition permutation matrix is :\n",
      "[[0 1 0 0]\n",
      " [0 0 0 1]\n",
      " [0 0 1 0]\n",
      " [1 0 0 0]]\n",
      "Encoding : 11d48ed9dgc6ab6c6147d845e586da03b9\n"
     ]
    }
   ],
   "source": [
    "string = \"0100000100101000:11d48ed9dCQIc6ab6c6147d845e586da03b9\"\n",
    "\n",
    "# Find the position of \":\"\n",
    "colon_position = string.index(\":\")\n",
    "\n",
    "# Count the number of characters before \":\"\n",
    "character_count = colon_position\n",
    "\n",
    "print(f\"Number of characters before ':' is {character_count}.\")\n",
    "dimension = math.sqrt(character_count)\n",
    "print(\"The dimension of the permutation matrix is : \", dimension, \" x \", dimension)\n",
    "\n",
    "# Get the matrix of permutation\n",
    "permutation_string = string.split(\":\")[0]\n",
    "permutation_matrix = np.array(list(map(int, permutation_string)))\n",
    "\n",
    "permutation_matrix = permutation_matrix.reshape((4, 4))\n",
    "print(\"Permutation matrix is :\")\n",
    "print(permutation_matrix)\n",
    "\n",
    "inverse_transpose_perm_matrix = np.linalg.inv(permutation_matrix).T\n",
    "print(\"Inverse of the transpostition permutation matrix is :\")\n",
    "print(permutation_matrix)\n",
    "\n",
    "# Get encoding string\n",
    "base17_code_str= string[colon_position + 1:]\n",
    "base17_code_str = base17_code_str.replace(\"CQI\", 'g')\n",
    "\n",
    "print(\"Encoding :\", base17_code_str)"
   ]
  },
  {
   "cell_type": "code",
   "execution_count": 38,
   "metadata": {},
   "outputs": [
    {
     "data": {
      "image/png": "[encoded data removed]",
      "text/plain": [
       "<Figure size 640x480 with 1 Axes>"
      ]
     },
     "metadata": {},
     "output_type": "display_data"
    }
   ],
   "source": [
    "# Ressources : https://matplotlib.org/stable/api/_as_gen/matplotlib.axes.Axes.set_xticks.html#matplotlib.axes.Axes.set_xticks\n",
    "\n",
    "#Show initial permutation matrix\n",
    "fig, ax = plt.subplots()\n",
    "\n",
    "# show number in grid\n",
    "for i in range(len(permutation_matrix)):\n",
    "    for j in range(len(permutation_matrix)):\n",
    "        ax.text(j, i, str(permutation_matrix[i, j]),\n",
    "                ha='center', va='center', fontsize=12)\n",
    "\n",
    "# Add line to grid\n",
    "ax.set_xticks(np.arange(-0.5, len(permutation_matrix), 1), minor=True)\n",
    "ax.set_yticks(np.arange(-0.5, len(permutation_matrix), 1), minor=True)\n",
    "ax.grid(which='minor', linestyle='-', linewidth=1, color='black')\n",
    "\n",
    "# Hide axis titles\n",
    "ax.set_xticks([])\n",
    "ax.set_yticks([])\n",
    "\n",
    "plt.title(\"Matrice de permutation\")\n",
    "plt.show()"
   ]
  },
  {
   "cell_type": "code",
   "execution_count": 11,
   "metadata": {},
   "outputs": [
    {
     "name": "stdout",
     "output_type": "stream",
     "text": [
      "The result of convert base 17 to bin is :  1000001010101111101010111010001110101111111011001110001000100000101010011010110000100000101011011010111110101011101010001010110000100100\n"
     ]
    }
   ],
   "source": [
    "# Convert base-17 to decimal\n",
    "decimal_number = int(base17_code_str, 17)\n",
    "\n",
    "# Convert decimal to binary\n",
    "binary_string = bin(decimal_number)[2:]\n",
    "\n",
    "print(\"The result of convert base 17 to bin is : \", binary_string)"
   ]
  },
  {
   "cell_type": "code",
   "execution_count": 24,
   "metadata": {},
   "outputs": [
    {
     "name": "stdout",
     "output_type": "stream",
     "text": [
      "[1, 0, 0, 0]\n",
      "1\n"
     ]
    }
   ],
   "source": [
    "binary_string = \"1000001010101111101010111010001110101111111011001110001000100000101010011010110000100000101011011010111110101011101010001010110000100100\"\n",
    "\n",
    "# Split the string into groups of 4 characters\n",
    "grouped_characters = [binary_string[i:i+4] for i in range(0, len(binary_string), 4)]\n",
    "\n",
    "# Convert each group to a list of integers\n",
    "matrix_list = [list(map(int, group)) for group in grouped_characters]\n",
    "\n",
    "# Convert the list of lists to a 2D NumPy array with 4 columns\n",
    "binrary_matrix = np.array(matrix_list)\n",
    "print(matrix_list[0])\n",
    "print(matrix_list[0][0])"
   ]
  },
  {
   "cell_type": "code",
   "execution_count": null,
   "metadata": {},
   "outputs": [
    {
     "name": "stdout",
     "output_type": "stream",
     "text": [
      "[0 1 0 0 0 0 1 0 0 1 1 0 1 1 1 1 0 1 1 0 1 1 1 0 0 1 1 0 1 0 1 0 0 1 1 0 1\n",
      " 1 1 1 0 1 1 1 0 1 0 1 0 1 1 1 0 0 1 0 0 0 1 0 0 0 0 0 0 1 1 0 1 1 0 0 0 1\n",
      " 1 0 0 1 0 1 0 0 1 0 0 0 0 0 0 1 1 0 1 1 0 1 0 1 1 0 1 1 1 1 0 1 1 0 1 1 1\n",
      " 0 0 1 1 0 0 1 0 0 0 1 1 0 0 1 0 1 0 0 1 0 0 0 0 1]\n"
     ]
    }
   ],
   "source": [
    "\n",
    "binrary_before_perm_matrix = np.matmul(binrary_matrix, inverse_transpose_perm_matrix)\n",
    "print(binrary_before_perm_matrix.flatten().astype(int))"
   ]
  },
  {
   "cell_type": "code",
   "execution_count": null,
   "metadata": {},
   "outputs": [
    {
     "name": "stdout",
     "output_type": "stream",
     "text": [
      "ASCII String:\n",
      "Bonjour le monde!\n"
     ]
    }
   ],
   "source": [
    "binrary_before_perm_string = ''.join(map(str, binrary_before_perm_matrix.flatten().astype(int)))\n",
    "ascii_string = ''.join([chr(int(binrary_before_perm_string[i:i+8], 2)) for i in range(0, len(binrary_before_perm_string), 8)])\n",
    "\n",
    "print(\"ASCII String:\")\n",
    "print(ascii_string)"
   ]
  }
 ],
 "metadata": {
  "kernelspec": {
   "display_name": "base",
   "language": "python",
   "name": "python3"
  },
  "language_info": {
   "codemirror_mode": {
    "name": "ipython",
    "version": 3
   },
   "file_extension": ".py",
   "mimetype": "text/x-python",
   "name": "python",
   "nbconvert_exporter": "python",
   "pygments_lexer": "ipython3",
   "version": "3.12.0"
  }
 },
 "nbformat": 4,
 "nbformat_minor": 2
}
