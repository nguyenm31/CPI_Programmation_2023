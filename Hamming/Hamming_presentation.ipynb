{
 "cells": [
  {
   "cell_type": "code",
   "execution_count": 10,
   "metadata": {},
   "outputs": [],
   "source": [
    "import numpy as np\n",
    "import math\n",
    "import matplotlib.pyplot as plt"
   ]
  },
  {
   "cell_type": "code",
   "execution_count": 43,
   "metadata": {},
   "outputs": [
    {
     "name": "stdout",
     "output_type": "stream",
     "text": [
      "Number of characters before ':' is 36.\n",
      "The dimension of the permutation matrix is :  6  x  6\n",
      "Inverse of the transpostition permutation matrix is :\n",
      "[[0. 0. 0. 0. 1. 0.]\n",
      " [0. 1. 0. 0. 0. 0.]\n",
      " [0. 0. 1. 0. 0. 0.]\n",
      " [0. 0. 0. 0. 0. 1.]\n",
      " [1. 0. 0. 0. 0. 0.]\n",
      " [0. 0. 0. 1. 0. 0.]]\n",
      "Encoding : 530g9e4560a7c1266d8gb5fg8dga328c3ecfgd91b763eb0dgaa4d2424c1fgd7fd31f3134806b9695e309dgced13cf9a43549fa2183742e7c63\n"
     ]
    }
   ],
   "source": [
    "string = \"000010010000001000000001100000000100:530CQI9e4560a7c1266d8CQIb5fCQI8dCQIa328c3ecfCQId91b763eb0dCQIaa4d2424c1fCQId7fd31f3134806b9695e309dCQIced13cf9a43549fa2183742e7c63\"\n",
    "\n",
    "# Find the position of \":\"\n",
    "colon_position = string.index(\":\")\n",
    "\n",
    "# Count the number of characters before \":\"\n",
    "character_count = colon_position\n",
    "\n",
    "print(f\"Number of characters before ':' is {character_count}.\")\n",
    "dimension = int(math.sqrt(character_count))\n",
    "print(\"The dimension of the permutation matrix is : \", dimension, \" x \", dimension)\n",
    "\n",
    "# Get the matrix of permutation\n",
    "permutation_string = string.split(\":\")[0]\n",
    "permutation_matrix = np.array(list(map(int, permutation_string)))\n",
    "\n",
    "permutation_string = string.split(\":\")[0]\n",
    "permutation_matrix = np.array(list(map(int, permutation_string)))\n",
    "permutation_matrix = permutation_matrix.reshape(dimension, dimension)\n",
    "inverse_transpose_perm_matrix = np.linalg.inv(permutation_matrix).T\n",
    "\n",
    "print(\"Inverse of the transpostition permutation matrix is :\")\n",
    "print(inverse_transpose_perm_matrix)\n",
    "\n",
    "# Get encoding string\n",
    "base17_code_str= string[colon_position + 1:]\n",
    "base17_code_str = base17_code_str.replace(\"CQI\", 'g')\n",
    "\n",
    "print(\"Encoding :\", base17_code_str)"
   ]
  },
  {
   "cell_type": "code",
   "execution_count": 44,
   "metadata": {},
   "outputs": [
    {
     "data": {
      "image/png": "[encoded data removed]",
      "text/plain": [
       "<Figure size 640x480 with 1 Axes>"
      ]
     },
     "metadata": {},
     "output_type": "display_data"
    }
   ],
   "source": [
    "# Ressources : https://matplotlib.org/stable/api/_as_gen/matplotlib.axes.Axes.set_xticks.html#matplotlib.axes.Axes.set_xticks\n",
    "\n",
    "#Show initial permutation matrix\n",
    "fig, ax = plt.subplots()\n",
    "\n",
    "# show number in grid\n",
    "for i in range(len(permutation_matrix)):\n",
    "    for j in range(len(permutation_matrix)):\n",
    "        ax.text(j, i, str(permutation_matrix[i, j]),\n",
    "                ha='center', va='center', fontsize=12)\n",
    "\n",
    "# Add line to grid\n",
    "ax.set_xticks(np.arange(-0.5, len(permutation_matrix), 1), minor=True)\n",
    "ax.set_yticks(np.arange(-0.5, len(permutation_matrix), 1), minor=True)\n",
    "ax.grid(which='minor', linestyle='-', linewidth=1, color='black')\n",
    "\n",
    "# Hide axis titles\n",
    "ax.set_xticks([])\n",
    "ax.set_yticks([])\n",
    "\n",
    "plt.title(\"Matrice de permutation\")\n",
    "plt.show()"
   ]
  },
  {
   "cell_type": "code",
   "execution_count": 45,
   "metadata": {},
   "outputs": [
    {
     "name": "stdout",
     "output_type": "stream",
     "text": [
      "The result of convert base 17 to bin is :  100110001110000000001001001000010010100001011000111001101110000010001011110001100110100000011010001111010001000000001001100110010011000110001010000001011001000100001001010100111011000110001000011000010011001100011010101010011011001100011011111010111011101101011000011000010111100100001010001000010010000110011000101010010111000110101010100000110111000110001011110000111001000000101000100000110011101100001010101101011011000110101010101000011011100110000000001000010\n"
     ]
    }
   ],
   "source": [
    "# Convert base-17 to decimal\n",
    "decimal_number = int(base17_code_str, 17)\n",
    "\n",
    "# Convert decimal to binary\n",
    "binary_string = bin(decimal_number)[2:]\n",
    "\n",
    "print(\"The result of convert base 17 to bin is : \", binary_string)"
   ]
  },
  {
   "cell_type": "code",
   "execution_count": 46,
   "metadata": {},
   "outputs": [
    {
     "name": "stdout",
     "output_type": "stream",
     "text": [
      "[[1 0 0 1 1 0]\n",
      " [0 0 1 1 1 0]\n",
      " [0 0 0 0 0 0]\n",
      " [0 0 1 0 0 1]\n",
      " [0 0 1 0 0 0]\n",
      " [0 1 0 0 1 0]\n",
      " [1 0 0 0 0 1]\n",
      " [0 1 1 0 0 0]\n",
      " [1 1 1 0 0 1]\n",
      " [1 0 1 1 1 0]\n",
      " [0 0 0 0 1 0]\n",
      " [0 0 1 0 1 1]\n",
      " [1 1 0 0 0 1]\n",
      " [1 0 0 1 1 0]\n",
      " [1 0 0 0 0 0]\n",
      " [0 1 1 0 1 0]\n",
      " [0 0 1 1 1 1]\n",
      " [0 1 0 0 0 1]\n",
      " [0 0 0 0 0 0]\n",
      " [0 0 1 0 0 1]\n",
      " [1 0 0 1 1 0]\n",
      " [0 1 0 0 1 1]\n",
      " [0 0 0 1 1 0]\n",
      " [0 0 1 0 1 0]\n",
      " [0 0 0 0 0 1]\n",
      " [0 1 1 0 0 1]\n",
      " [0 0 0 1 0 0]\n",
      " [0 0 1 0 0 1]\n",
      " [0 1 0 1 0 0]\n",
      " [1 1 1 0 1 1]\n",
      " [0 0 0 1 1 0]\n",
      " [0 0 1 0 0 0]\n",
      " [0 1 1 0 0 0]\n",
      " [0 1 0 0 1 1]\n",
      " [0 0 1 1 0 0]\n",
      " [0 1 1 0 1 0]\n",
      " [1 0 1 0 1 0]\n",
      " [0 1 1 0 1 1]\n",
      " [0 0 1 1 0 0]\n",
      " [0 1 1 0 1 1]\n",
      " [1 1 1 0 1 0]\n",
      " [1 1 1 0 1 1]\n",
      " [1 0 1 1 0 1]\n",
      " [0 1 1 0 0 0]\n",
      " [0 1 1 0 0 0]\n",
      " [0 1 0 1 1 1]\n",
      " [1 0 0 1 0 0]\n",
      " [0 0 1 0 1 0]\n",
      " [0 0 1 0 0 0]\n",
      " [0 1 0 0 1 0]\n",
      " [0 0 0 1 1 0]\n",
      " [0 1 1 0 0 0]\n",
      " [1 0 1 0 1 0]\n",
      " [0 1 0 1 1 1]\n",
      " [0 0 0 1 1 0]\n",
      " [1 0 1 0 1 0]\n",
      " [1 0 0 0 0 0]\n",
      " [1 1 0 1 1 1]\n",
      " [0 0 0 1 1 0]\n",
      " [0 0 1 0 1 1]\n",
      " [1 1 0 0 0 0]\n",
      " [1 1 1 0 0 1]\n",
      " [0 0 0 0 0 0]\n",
      " [1 0 1 0 0 0]\n",
      " [1 0 0 0 0 0]\n",
      " [1 1 0 0 1 1]\n",
      " [1 0 1 1 0 0]\n",
      " [0 0 1 0 1 0]\n",
      " [1 0 1 1 0 1]\n",
      " [0 1 1 0 1 1]\n",
      " [0 0 0 1 1 0]\n",
      " [1 0 1 0 1 0]\n",
      " [1 0 1 0 0 0]\n",
      " [0 1 1 0 1 1]\n",
      " [1 0 0 1 1 0]\n",
      " [0 0 0 0 0 0]\n",
      " [0 0 1 0 0 0]\n",
      " [0 1 0 2 2 2]]\n"
     ]
    }
   ],
   "source": [
    " # Transform binary string to matrix\n",
    "grouped_characters = [binary_string[i:i+dimension] for i in range(0, len(binary_string), dimension)]\n",
    "matrix_list = [list(map(int, group)) for group in grouped_characters]\n",
    "\n",
    "last_elem = grouped_characters[len(grouped_characters)-1]  # Corrected line\n",
    "last_elem += '2' * (dimension - len(last_elem))  # Add the last 0s\n",
    "matrix_list[-1] = list(map(int, last_elem))  # Update the last element in matrix_list\n",
    "\n",
    "binrary_matrix = np.array(matrix_list)\n",
    "print(binrary_matrix)"
   ]
  },
  {
   "cell_type": "code",
   "execution_count": 50,
   "metadata": {},
   "outputs": [
    {
     "name": "stdout",
     "output_type": "stream",
     "text": [
      "[1 0 0 0 1 1 1 0 1 0 0 1 0 0 0 0 0 0 0 0 1 1 0 0 0 0 1 0 0 0 1 1 0 0 0 0 0\n",
      " 0 0 1 1 0 0 1 1 0 0 0 0 1 1 1 1 0 1 0 1 0 1 1 1 0 0 0 0 0 1 0 1 1 0 0 0 1\n",
      " 0 1 1 0 1 0 0 0 1 1 0 0 0 0 1 0 1 1 1 0 0 0 1 0 1 1 0 1 0 1 0 1 0 0 0 0 0\n",
      " 0 0 0 0 0 1 1 0 0 1 0 0 0 1 1 1 1 0 1 0 0 1 0 0 0 0 1 1 0 1 0 0 0 0 0 0 1\n",
      " 0 0 0 1 1 1 0 0 0 0 0 0 0 1 0 0 1 1 0 0 0 1 0 0 0 1 1 1 1 1 1 0 1 0 0 0 0\n",
      " 1 0 0 1 0 0 0 0 1 1 0 0 0 1 1 0 1 0 0 0 0 1 0 0 1 1 1 1 0 0 0 1 0 1 0 1 0\n",
      " 1 1 1 1 0 0 0 0 1 0 0 1 1 1 1 1 0 0 1 1 1 0 1 0 1 1 1 1 1 0 0 0 1 1 1 1 0\n",
      " 1 1 0 0 0 0 1 1 0 0 0 1 1 0 1 0 1 0 0 0 0 1 1 1 0 1 0 0 0 0 0 1 0 0 0 1 1\n",
      " 0 0 0 0 1 0 0 0 0 1 0 1 1 0 0 0 1 0 1 0 1 0 1 1 0 1 0 1 1 0 0 0 0 1 1 0 1\n",
      " 0 1 0 0 0 0 0 1 0 1 1 0 1 1 1 1 0 0 0 0 1 1 0 1 1 0 0 0 1 0 0 1 0 0 1 1 1\n",
      " 1 0 0 0 0 0 0 0 0 0 1 0 1 0 0 0 0 0 1 0 1 1 0 1 1 0 0 0 1 0 1 1 1 0 1 0 0\n",
      " 0 0 0 1 1 1 1 1 1 1 1 0 0 1 0 0 0 0 1 1 0 1 0 1 0 0 0 1 0 1 0 1 1 1 1 0 0\n",
      " 1 0 0 0 1 1 0 0 0 0 0 0 0 0 1 0 0 0 1 0 0]\n"
     ]
    }
   ],
   "source": [
    "binrary_before_perm_matrix = np.matmul(binrary_matrix, inverse_transpose_perm_matrix)\n",
    "flatten = binrary_before_perm_matrix.flatten().astype(int)\n",
    "filtered_array = flatten[flatten != 2]\n",
    "\n",
    "print(filtered_array)\n"
   ]
  },
  {
   "cell_type": "code",
   "execution_count": 51,
   "metadata": {},
   "outputs": [
    {
     "name": "stdout",
     "output_type": "stream",
     "text": [
      "ASCII String:\n",
      "\f#\u0001z¸,Z0¸µ@\fHh\u0011ÀLGèHcBx«Â|ëãØcPèX«Xj\u000bxlIà\n",
      "\u000bbè?Èj+ÈÀ\"\u0000\n"
     ]
    }
   ],
   "source": [
    "binrary_before_perm_string = ''.join(map(str, filtered_array.flatten().astype(int)))\n",
    "ascii_string = ''.join([chr(int(binrary_before_perm_string[i:i+8], 2)) for i in range(0, len(binrary_before_perm_string), 8)])\n",
    "\n",
    "print(\"ASCII String:\")\n",
    "print(ascii_string)"
   ]
  }
 ],
 "metadata": {
  "kernelspec": {
   "display_name": "base",
   "language": "python",
   "name": "python3"
  },
  "language_info": {
   "codemirror_mode": {
    "name": "ipython",
    "version": 3
   },
   "file_extension": ".py",
   "mimetype": "text/x-python",
   "name": "python",
   "nbconvert_exporter": "python",
   "pygments_lexer": "ipython3",
   "version": "3.12.0"
  }
 },
 "nbformat": 4,
 "nbformat_minor": 2
}
