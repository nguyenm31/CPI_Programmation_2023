{
 "cells": [
  {
   "cell_type": "code",
   "execution_count": 3,
   "metadata": {},
   "outputs": [],
   "source": [
    "import matplotlib\n",
    "import numpy as np"
   ]
  },
  {
   "cell_type": "code",
   "execution_count": 4,
   "metadata": {},
   "outputs": [
    {
     "name": "stdout",
     "output_type": "stream",
     "text": [
      "[0 0 1 0]\n"
     ]
    }
   ],
   "source": [
    "import numpy as np\n",
    "\n",
    "data = \"\"\"0100\n",
    "0010\n",
    "0110\n",
    "1111\n",
    "0110\n",
    "1110\n",
    "0110\n",
    "1010\n",
    "0110\n",
    "1111\n",
    "0111\n",
    "0101\n",
    "0111\n",
    "0010\n",
    "0010\n",
    "0000\n",
    "0110\n",
    "1100\n",
    "0110\n",
    "0101\n",
    "0010\n",
    "0000\n",
    "0110\n",
    "1101\n",
    "0110\n",
    "1111\n",
    "0110\n",
    "1110\n",
    "0110\n",
    "0100\n",
    "0110\n",
    "0101\n",
    "0010\n",
    "0001\"\"\"\n",
    "\n",
    "# Split the string into rows\n",
    "rows = data.split('\\n')\n",
    "\n",
    "# Convert each row to a list of integers\n",
    "matrix = [list(map(int, list(row))) for row in rows]\n",
    "\n",
    "# Convert the list of lists to a 2D numpy array\n",
    "numpy_array = np.array(matrix)\n",
    "\n",
    "# Print the result\n",
    "print(numpy_array)"
   ]
  },
  {
   "cell_type": "code",
   "execution_count": 7,
   "metadata": {},
   "outputs": [
    {
     "name": "stdout",
     "output_type": "stream",
     "text": [
      "Matrix A:\n",
      "[[1 2 3]\n",
      " [4 5 6]\n",
      " [7 8 9]]\n",
      "\n",
      "Matrix B:\n",
      "[[1 0 0]\n",
      " [0 0 1]\n",
      " [0 1 0]]\n",
      "\n",
      "Result of Matrix Multiplication:\n",
      "[[1 3 2]\n",
      " [4 6 5]\n",
      " [7 9 8]]\n"
     ]
    }
   ],
   "source": [
    "\n",
    "# Define two matrices\n",
    "matrix_a = np.array([[1, 2, 3], [4, 5, 6], [7, 8, 9]])\n",
    "matrix_b = np.array([[1, 0, 0], [0, 0, 1], [0, 1, 0]])\n",
    "\n",
    "# Perform matrix multiplication\n",
    "result = np.matmul(matrix_a, matrix_b)\n",
    "# Alternatively: result = matrix_a @ matrix_b\n",
    "\n",
    "print(\"Matrix A:\")\n",
    "print(matrix_a)\n",
    "\n",
    "print(\"\\nMatrix B:\")\n",
    "print(matrix_b)\n",
    "\n",
    "print(\"\\nResult of Matrix Multiplication:\")\n",
    "print(result)"
   ]
  },
  {
   "cell_type": "code",
   "execution_count": 9,
   "metadata": {},
   "outputs": [
    {
     "name": "stdout",
     "output_type": "stream",
     "text": [
      "[[0 0 0 1]\n",
      " [0 0 1 0]\n",
      " [0 0 1 1]\n",
      " [1 1 1 1]\n",
      " [0 0 1 1]\n",
      " [0 1 1 1]\n",
      " [0 0 1 1]\n",
      " [0 1 1 0]\n",
      " [0 0 1 1]\n",
      " [1 1 1 1]\n",
      " [1 0 1 1]\n",
      " [1 0 0 1]\n",
      " [1 0 1 1]\n",
      " [0 0 1 0]\n",
      " [0 0 1 0]\n",
      " [0 0 0 0]\n",
      " [0 0 1 1]\n",
      " [0 1 0 1]\n",
      " [0 0 1 1]\n",
      " [1 0 0 1]\n",
      " [0 0 1 0]\n",
      " [0 0 0 0]\n",
      " [0 0 1 1]\n",
      " [1 1 0 1]\n",
      " [0 0 1 1]\n",
      " [1 1 1 1]\n",
      " [0 0 1 1]\n",
      " [0 1 1 1]\n",
      " [0 0 1 1]\n",
      " [0 0 0 1]\n",
      " [0 0 1 1]\n",
      " [1 0 0 1]\n",
      " [0 0 1 0]\n",
      " [1 0 0 0]]\n"
     ]
    }
   ],
   "source": [
    "matrix_permutation = np.array([[0, 1, 0, 0], [0, 0, 0, 1], [0, 0, 1, 0], [1, 0, 0, 0]])\n",
    "result = np.matmul(numpy_array, matrix_permutation)\n",
    "print(result)\n"
   ]
  },
  {
   "cell_type": "code",
   "execution_count": 11,
   "metadata": {},
   "outputs": [
    {
     "name": "stdout",
     "output_type": "stream",
     "text": [
      "[0 0 0 1 0 0 1 0 0 0 1 1 1 1 1 1 0 0 1 1 0 1 1 1 0 0 1 1 0 1 1 0 0 0 1 1 1\n",
      " 1 1 1 1 0 1 1 1 0 0 1 1 0 1 1 0 0 1 0 0 0 1 0 0 0 0 0 0 0 1 1 0 1 0 1 0 0\n",
      " 1 1 1 0 0 1 0 0 1 0 0 0 0 0 0 0 1 1 1 1 0 1 0 0 1 1 1 1 1 1 0 0 1 1 0 1 1\n",
      " 1 0 0 1 1 0 0 0 1 0 0 1 1 1 0 0 1 0 0 1 0 1 0 0 0]\n"
     ]
    }
   ],
   "source": [
    "flattened_array = result.flatten()\n",
    "print(flattened_array)\n",
    "\n"
   ]
  },
  {
   "cell_type": "code",
   "execution_count": 12,
   "metadata": {},
   "outputs": [
    {
     "name": "stdout",
     "output_type": "stream",
     "text": [
      "1000 0010 1010 1111 1010 1011 1010 0011 1010 1111 1110 1100 1110 0010 0010 0000 1010 1001 1010 1100 0010 0000 1010 1101 1010 1111 1010 1011 1010 1000 1010 1100 0010 0100\n"
     ]
    }
   ],
   "source": [
    "original_string = \"1000001010101111101010111010001110101111111011001110001000100000101010011010110000100000101011011010111110101011101010001010110000100100\"\n",
    "\n",
    "# Insert spaces every 4 characters\n",
    "spaced_string = ' '.join([original_string[i:i+4] for i in range(0, len(original_string), 4)])\n",
    "\n",
    "print(spaced_string)"
   ]
  }
 ],
 "metadata": {
  "kernelspec": {
   "display_name": "base",
   "language": "python",
   "name": "python3"
  },
  "language_info": {
   "codemirror_mode": {
    "name": "ipython",
    "version": 3
   },
   "file_extension": ".py",
   "mimetype": "text/x-python",
   "name": "python",
   "nbconvert_exporter": "python",
   "pygments_lexer": "ipython3",
   "version": "3.11.5"
  }
 },
 "nbformat": 4,
 "nbformat_minor": 2
}
